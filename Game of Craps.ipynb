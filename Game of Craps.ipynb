{
 "cells": [
  {
   "cell_type": "code",
   "execution_count": 1,
   "id": "66fad361",
   "metadata": {},
   "outputs": [],
   "source": [
    "import random\n",
    "from random import randint"
   ]
  },
  {
   "cell_type": "code",
   "execution_count": 2,
   "id": "fe205e1c",
   "metadata": {},
   "outputs": [],
   "source": [
    "class Dice:\n",
    "    \n",
    "    def __init__(self,sides=6):\n",
    "        self.sides=sides\n",
    "        self.die1 = random.randint(1,self.sides)\n",
    "        self.die2 = random.randint(1,self.sides)\n",
    "        self.total = self.die1 + self.die2\n",
    "       # print(self.die1)\n",
    "       # print(self.die2)\n",
    "       # print(self.total)"
   ]
  },
  {
   "cell_type": "code",
   "execution_count": 3,
   "id": "47a84fb1",
   "metadata": {},
   "outputs": [],
   "source": [
    "d = Dice()"
   ]
  },
  {
   "cell_type": "code",
   "execution_count": 4,
   "id": "672fc747",
   "metadata": {},
   "outputs": [
    {
     "data": {
      "text/plain": [
       "2"
      ]
     },
     "execution_count": 4,
     "metadata": {},
     "output_type": "execute_result"
    }
   ],
   "source": [
    "d.die1"
   ]
  },
  {
   "cell_type": "code",
   "execution_count": 5,
   "id": "6fd61b66",
   "metadata": {},
   "outputs": [],
   "source": [
    "class Table(Dice):\n",
    "    \n",
    "    \n",
    "    def __init__(self,point_set=False):\n",
    "        super().__init__()\n",
    "        \n",
    "        if point_set == False:\n",
    "            print(\"Point hasn't been set yet\")\n",
    "        else:\n",
    "            print(\"Point has been set\")\n",
    "            "
   ]
  },
  {
   "cell_type": "code",
   "execution_count": 6,
   "id": "8900adb7",
   "metadata": {},
   "outputs": [
    {
     "name": "stdout",
     "output_type": "stream",
     "text": [
      "Point hasn't been set yet\n"
     ]
    }
   ],
   "source": [
    "t = Table()"
   ]
  },
  {
   "cell_type": "code",
   "execution_count": 7,
   "id": "b58879d6",
   "metadata": {},
   "outputs": [],
   "source": [
    "class Player(Table):\n",
    "    \n",
    "    def __init__(self):\n",
    "        super().__init__()\n",
    "        self.name = input(\"Please enter your name: \")\n",
    "        print(\"Welcome to the table {}\".format(self.name))\n",
    "        while True:\n",
    "            try:\n",
    "                self.bankroll = int(input(\"Please enter you Bankroll: \"))\n",
    "                \n",
    "\n",
    "            except ValueError: \n",
    "                print(\"Please enter a valid number\\nOnly Dollars accepted on this table\")\n",
    "\n",
    "            else:\n",
    "                \n",
    "                print(\"Your bankroll is {}\".format(self.bankroll))\n",
    "                return self.bankroll\n",
    "        return self.name\n",
    "    \n",
    "        \n",
    "        \n",
    "            \n"
   ]
  },
  {
   "cell_type": "code",
   "execution_count": null,
   "id": "57529242",
   "metadata": {},
   "outputs": [
    {
     "name": "stdout",
     "output_type": "stream",
     "text": [
      "Point hasn't been set yet\n"
     ]
    }
   ],
   "source": [
    "class Bets(Player):\n",
    "    \n",
    "    def __init__(self):\n",
    "        super().__init__()\n",
    "        \n",
    "        \n",
    "    def insufficient_funds():\n",
    "        print(\"bet exceeds bankroll, please choose a bet within the bankroll limit\")\n",
    "    \n",
    "    \n",
    "    def ingest_bet(self):\n",
    "\n",
    "        while point_set == False:\n",
    "\n",
    "            try:\n",
    "                initial_bet = int(input(\"Enter bet amount: \"))\n",
    "\n",
    "                if initial_bet <= 0:\n",
    "                    print(\"Please enter a bet\")\n",
    "                    continue\n",
    "\n",
    "                elif initial_bet > self.bankroll:\n",
    "                    Bets.insufficient_funds()\n",
    "                    continue\n",
    "            except ValueError:\n",
    "                print(\"Please enter a valid number\")\n",
    "\n",
    "            else:\n",
    "                self.bankroll = self.bankroll - initial_bet\n",
    "                break\n",
    "        \n",
    "        return initial_bet\n",
    "    \n",
    "    def betting_turn(self):\n",
    "        \n",
    "        \n",
    "        while point_set == False:\n",
    "            # ask user if they wanna bet\n",
    "            ask_bet = input(\"Do you want to place a bet? (Y or N) : \")\n",
    "            if ask_bet == 'y' or ask_bet == 'Y':\n",
    "                while True:\n",
    "                    self.initial_bet_choice == input(\"P or DP? : \")\n",
    "                    if self.initial_bet_choice == 'P' or self.initial_bet_choice == 'p':\n",
    "                        self.ingest_bet()\n",
    "                        break\n",
    "                    else:\n",
    "                        print(\"Please enter a valid choice\")\n",
    "            elif ask_bet == 'n' or ask_bet == 'N':\n",
    "                print(\"Thank you for playing\")\n",
    "                break\n",
    "            else:\n",
    "                print(\"Please make a valid choice\")\n",
    "                continue\n",
    "    \n",
    "        \n",
    "    \n",
    "bet = Bets()    \n",
    "bet.ingest_bet()\n",
    "print(\"Your updated bankroll is {}\" .format(bet.bankroll))\n",
    "bet.betting_turn()            \n"
   ]
  },
  {
   "cell_type": "code",
   "execution_count": null,
   "id": "704e3945",
   "metadata": {},
   "outputs": [],
   "source": []
  },
  {
   "cell_type": "code",
   "execution_count": null,
   "id": "1454303c",
   "metadata": {},
   "outputs": [],
   "source": []
  },
  {
   "cell_type": "code",
   "execution_count": null,
   "id": "d902885d",
   "metadata": {},
   "outputs": [],
   "source": []
  },
  {
   "cell_type": "code",
   "execution_count": null,
   "id": "4ebd239b",
   "metadata": {},
   "outputs": [],
   "source": []
  },
  {
   "cell_type": "code",
   "execution_count": null,
   "id": "bdd5fe80",
   "metadata": {},
   "outputs": [],
   "source": []
  },
  {
   "cell_type": "code",
   "execution_count": null,
   "id": "b6cfd4d6",
   "metadata": {},
   "outputs": [],
   "source": []
  }
 ],
 "metadata": {
  "kernelspec": {
   "display_name": "Python 3 (ipykernel)",
   "language": "python",
   "name": "python3"
  },
  "language_info": {
   "codemirror_mode": {
    "name": "ipython",
    "version": 3
   },
   "file_extension": ".py",
   "mimetype": "text/x-python",
   "name": "python",
   "nbconvert_exporter": "python",
   "pygments_lexer": "ipython3",
   "version": "3.9.12"
  }
 },
 "nbformat": 4,
 "nbformat_minor": 5
}
