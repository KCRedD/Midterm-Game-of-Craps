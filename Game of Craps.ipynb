{
 "cells": [
  {
   "cell_type": "code",
   "execution_count": 1,
   "id": "0b40d108",
   "metadata": {},
   "outputs": [],
   "source": [
    "import random\n",
    "from random import randint"
   ]
  },
  {
   "cell_type": "code",
   "execution_count": 2,
   "id": "fcc19d49",
   "metadata": {},
   "outputs": [],
   "source": [
    "class Dice():\n",
    "    \n",
    "    def __init__(self,sides=6):\n",
    "        self.sides=sides\n",
    "    \n",
    "        def roll(self):\n",
    "        \n",
    "            \n",
    "            self.num = random.randint(1,self.sides)\n",
    "            \n",
    "            return self.num"
   ]
  },
  {
   "cell_type": "code",
   "execution_count": null,
   "id": "0cbe06ba",
   "metadata": {},
   "outputs": [],
   "source": []
  },
  {
   "cell_type": "code",
   "execution_count": null,
   "id": "91febc06",
   "metadata": {},
   "outputs": [],
   "source": []
  }
 ],
 "metadata": {
  "kernelspec": {
   "display_name": "Python 3 (ipykernel)",
   "language": "python",
   "name": "python3"
  },
  "language_info": {
   "codemirror_mode": {
    "name": "ipython",
    "version": 3
   },
   "file_extension": ".py",
   "mimetype": "text/x-python",
   "name": "python",
   "nbconvert_exporter": "python",
   "pygments_lexer": "ipython3",
   "version": "3.9.12"
  }
 },
 "nbformat": 4,
 "nbformat_minor": 5
}
