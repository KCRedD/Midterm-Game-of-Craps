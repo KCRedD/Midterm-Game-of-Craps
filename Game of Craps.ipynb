{
 "cells": [
  {
   "cell_type": "code",
   "execution_count": 1,
   "id": "66fad361",
   "metadata": {},
   "outputs": [],
   "source": [
    "import random\n",
    "from random import randint"
   ]
  },
  {
   "cell_type": "code",
   "execution_count": 2,
   "id": "fe205e1c",
   "metadata": {},
   "outputs": [],
   "source": [
    "class Dice:\n",
    "    \n",
    "    def __init__(self,sides=6):\n",
    "        self.sides=sides\n",
    "        self.die1 = random.randint(1,self.sides)\n",
    "        self.die2 = random.randint(1,self.sides)\n",
    "        self.total = self.die1 + self.die2\n",
    "        print(self.die1)\n",
    "        print(self.die2)\n",
    "        print(self.total)"
   ]
  },
  {
   "cell_type": "code",
   "execution_count": null,
   "id": "6fd61b66",
   "metadata": {},
   "outputs": [],
   "source": [
    "class Table(Dice):\n",
    "    \n",
    "    def __init__(self):\n",
    "        \n",
    "        if point_set == False:\n",
    "            print(\"Point hasn't been set yet\")\n",
    "        else:\n",
    "            print(\"Point has been set\")\n",
    "            "
   ]
  },
  {
   "cell_type": "code",
   "execution_count": 3,
   "id": "b58879d6",
   "metadata": {},
   "outputs": [],
   "source": [
    "class Player:\n",
    "    \n",
    "    def __init__(self):\n",
    "        \n",
    "        self.name = input(\"Please enter your name: \")\n",
    "        print(\"Welcome to the table {}\".format(self.name))\n",
    "        while True:\n",
    "            try:\n",
    "                self.bankroll = int(input(\"Please enter you Bankroll: \"))\n",
    "                \n",
    "\n",
    "            except ValueError: \n",
    "                print(\"Please enter a valid number\\nOnly Dollars accepted on this table\")\n",
    "\n",
    "            else:\n",
    "                \n",
    "                print(\"Your bankroll is {}\".format(self.bankroll))\n",
    "                return self.bankroll\n",
    "        return self.name\n",
    "    \n",
    "        \n",
    "        \n",
    "            \n"
   ]
  },
  {
   "cell_type": "code",
   "execution_count": 4,
   "id": "57529242",
   "metadata": {},
   "outputs": [
    {
     "name": "stdout",
     "output_type": "stream",
     "text": [
      "Please enter your name: kc\n",
      "Welcome to the table kc\n",
      "Please enter you Bankroll: 5000\n",
      "Your bankroll is 5000\n",
      "Enter bet amount: 50\n",
      "Your updated bankroll is 4950\n"
     ]
    }
   ],
   "source": [
    "class Bets(Player):\n",
    "    \n",
    "    def __init__(self):\n",
    "        super().__init__()\n",
    "        \n",
    "        \n",
    "    \n",
    "    def ingest_bet(self):\n",
    "\n",
    "       \n",
    "\n",
    "        point_set = False\n",
    "\n",
    "\n",
    "        while point_set == False:\n",
    "\n",
    "            try:\n",
    "                initial_bet = int(input(\"Enter bet amount: \"))\n",
    "\n",
    "                if initial_bet <= 0:\n",
    "                    print(\"Please enter a bet\")\n",
    "                    continue\n",
    "\n",
    "                elif initial_bet > self.bankroll:\n",
    "                    print(\"bet exceeds bankroll, please choose a bet within the bankroll limit\")\n",
    "                    continue\n",
    "            except ValueError:\n",
    "                print(\"Please enter a valid number\")\n",
    "\n",
    "            else:\n",
    "                self.bankroll = self.bankroll - initial_bet\n",
    "                break\n",
    "\n",
    "        \n",
    "\n",
    "        return initial_bet\n",
    "\n",
    "bet = Bets()    \n",
    "bet.ingest_bet()\n",
    "print(\"Your updated bankroll is {}\" .format(bet.bankroll))\n",
    "            \n",
    "        "
   ]
  },
  {
   "cell_type": "code",
   "execution_count": null,
   "id": "95a661a6",
   "metadata": {},
   "outputs": [],
   "source": []
  },
  {
   "cell_type": "code",
   "execution_count": null,
   "id": "6a5d06f4",
   "metadata": {},
   "outputs": [],
   "source": []
  },
  {
   "cell_type": "code",
   "execution_count": null,
   "id": "4645880c",
   "metadata": {},
   "outputs": [],
   "source": []
  },
  {
   "cell_type": "code",
   "execution_count": null,
   "id": "33d0be94",
   "metadata": {},
   "outputs": [],
   "source": []
  },
  {
   "cell_type": "code",
   "execution_count": null,
   "id": "bdd5fe80",
   "metadata": {},
   "outputs": [],
   "source": [
    "bankroll = p.bankroll()  \n",
    "\n",
    "def ingest_bet():\n",
    "    \n",
    "    \n",
    "    point_set = False\n",
    "    \n",
    "    while point_set == False:\n",
    "       \n",
    "        try:\n",
    "            initial_bet = int(input(\"Enter bet amount: \"))\n",
    "\n",
    "            if int(initial_bet) <= 0:\n",
    "                print(\"Please enter a bet\")\n",
    "                continue\n",
    "        except ValueError:\n",
    "            print(\"Please enter a valid number\")\n",
    "\n",
    "        else:\n",
    "            break\n",
    "\n",
    "\n",
    "\n",
    "bet = ingest_bet()   \n",
    "    \n",
    "bankroll = bankroll - bet\n",
    "print(\"Your updated bankroll is {}\" .format(bankroll))"
   ]
  },
  {
   "cell_type": "code",
   "execution_count": null,
   "id": "b6cfd4d6",
   "metadata": {},
   "outputs": [],
   "source": []
  }
 ],
 "metadata": {
  "kernelspec": {
   "display_name": "Python 3 (ipykernel)",
   "language": "python",
   "name": "python3"
  },
  "language_info": {
   "codemirror_mode": {
    "name": "ipython",
    "version": 3
   },
   "file_extension": ".py",
   "mimetype": "text/x-python",
   "name": "python",
   "nbconvert_exporter": "python",
   "pygments_lexer": "ipython3",
   "version": "3.9.12"
  }
 },
 "nbformat": 4,
 "nbformat_minor": 5
}
