{
 "cells": [
  {
   "cell_type": "code",
   "execution_count": 1,
   "id": "ab0c7b05",
   "metadata": {},
   "outputs": [],
   "source": [
    "import random\n",
    "from random import randint"
   ]
  },
  {
   "cell_type": "code",
   "execution_count": 2,
   "id": "cf519047",
   "metadata": {},
   "outputs": [],
   "source": [
    "class Dice():\n",
    "    \n",
    "    def __init__(self,sides=6):\n",
    "        self.sides=sides\n",
    "    \n",
    "        def roll(self):\n",
    "        \n",
    "            \n",
    "            self.num = random.randint(1,self.sides)\n",
    "            \n",
    "            return self.num"
   ]
  },
  {
   "cell_type": "code",
   "execution_count": null,
   "id": "e0771f5e",
   "metadata": {},
   "outputs": [],
   "source": [
    " def roll():\n",
    "        \n",
    "            options = [1,2,3,4,5,6]\n",
    "            num = random.choice(options)\n",
    "            \n",
    "            return num"
   ]
  },
  {
   "cell_type": "code",
   "execution_count": null,
   "id": "5d38befa",
   "metadata": {},
   "outputs": [],
   "source": []
  }
 ],
 "metadata": {
  "kernelspec": {
   "display_name": "Python 3 (ipykernel)",
   "language": "python",
   "name": "python3"
  },
  "language_info": {
   "codemirror_mode": {
    "name": "ipython",
    "version": 3
   },
   "file_extension": ".py",
   "mimetype": "text/x-python",
   "name": "python",
   "nbconvert_exporter": "python",
   "pygments_lexer": "ipython3",
   "version": "3.9.12"
  }
 },
 "nbformat": 4,
 "nbformat_minor": 5
}
