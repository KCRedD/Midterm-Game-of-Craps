{
 "cells": [
  {
   "cell_type": "code",
   "execution_count": 1,
   "id": "4baace2b",
   "metadata": {},
   "outputs": [],
   "source": [
    "import random\n",
    "from random import randint"
   ]
  },
  {
   "cell_type": "code",
   "execution_count": 2,
   "id": "89b2b26f",
   "metadata": {},
   "outputs": [],
   "source": [
    "class Dice():\n",
    "    \n",
    "    def __init__(self,sides=6):\n",
    "        self.sides=sides\n",
    "    \n",
    "        def roll(self):\n",
    "        \n",
    "            \n",
    "            self.num = random.randint(1,self.sides)\n",
    "            \n",
    "            return self.num"
   ]
  },
  {
   "cell_type": "code",
   "execution_count": null,
   "id": "9758922c",
   "metadata": {},
   "outputs": [],
   "source": [
    "class Table(Dice):\n",
    "    \n",
    "    def __init__(self):\n",
    "        print(\"Point hasn't been set yet\")"
   ]
  },
  {
   "cell_type": "code",
   "execution_count": null,
   "id": "8f2b6c81",
   "metadata": {},
   "outputs": [],
   "source": [
    "class Player(Table):\n",
    "    \n",
    "    def __init__(self):\n",
    "        self.name = input(\"Please enter your name: \")\n",
    "        print(\"Welcome to the table {}\".format(self.name))\n",
    "       \n",
    "        \n",
    "    def bankroll(self):   \n",
    "        \n",
    "        try:\n",
    "            self.amount = input(\"Please enter you Bankroll: \")\n",
    "                  \n",
    "        except: \n",
    "            if type(self.amount) != int:\n",
    "                print(\"Please enter a valid number!\")\n",
    "            else:\n",
    "                print(\"Only Dollars accepted on this table\")\n",
    "        \n",
    "        else:  \n",
    "            print(\"Your bankroll is {}\".format(self.amount))\n",
    "            return self.amount"
   ]
  }
 ],
 "metadata": {
  "kernelspec": {
   "display_name": "Python 3 (ipykernel)",
   "language": "python",
   "name": "python3"
  },
  "language_info": {
   "codemirror_mode": {
    "name": "ipython",
    "version": 3
   },
   "file_extension": ".py",
   "mimetype": "text/x-python",
   "name": "python",
   "nbconvert_exporter": "python",
   "pygments_lexer": "ipython3",
   "version": "3.9.12"
  }
 },
 "nbformat": 4,
 "nbformat_minor": 5
}
