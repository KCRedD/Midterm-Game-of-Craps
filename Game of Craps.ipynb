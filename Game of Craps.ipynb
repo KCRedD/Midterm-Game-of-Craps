{
 "cells": [
  {
   "cell_type": "code",
   "execution_count": 1,
   "id": "66fad361",
   "metadata": {},
   "outputs": [],
   "source": [
    "import random\n",
    "from random import randint"
   ]
  },
  {
   "cell_type": "code",
   "execution_count": 24,
   "id": "fe205e1c",
   "metadata": {},
   "outputs": [
    {
     "name": "stdout",
     "output_type": "stream",
     "text": [
      "5\n",
      "5\n",
      "10\n"
     ]
    }
   ],
   "source": [
    "class Dice:\n",
    "    \n",
    "    def __init__(self,sides=6):\n",
    "        self.sides=sides\n",
    "        self.die1 = random.randint(1,self.sides)\n",
    "        self.die2 = random.randint(1,self.sides)\n",
    "        self.dietotal = self.die1 + self.die2\n",
    "        print(self.die1)\n",
    "        print(self.die2)\n",
    "        print(self.dietotal)\n",
    "d = Dice()"
   ]
  },
  {
   "cell_type": "code",
   "execution_count": null,
   "id": "2f329251",
   "metadata": {},
   "outputs": [],
   "source": []
  },
  {
   "cell_type": "code",
   "execution_count": 23,
   "id": "66a51fbe",
   "metadata": {},
   "outputs": [
    {
     "ename": "AttributeError",
     "evalue": "type object 'Dice' has no attribute 'dietotal'",
     "output_type": "error",
     "traceback": [
      "\u001b[0;31m---------------------------------------------------------------------------\u001b[0m",
      "\u001b[0;31mAttributeError\u001b[0m                            Traceback (most recent call last)",
      "Input \u001b[0;32mIn [23]\u001b[0m, in \u001b[0;36m<cell line: 1>\u001b[0;34m()\u001b[0m\n\u001b[0;32m----> 1\u001b[0m \u001b[43mDice\u001b[49m\u001b[38;5;241;43m.\u001b[39;49m\u001b[43mdietotal\u001b[49m()\n",
      "\u001b[0;31mAttributeError\u001b[0m: type object 'Dice' has no attribute 'dietotal'"
     ]
    }
   ],
   "source": [
    "Dice.dietotal()"
   ]
  },
  {
   "cell_type": "code",
   "execution_count": 9,
   "id": "6fd61b66",
   "metadata": {},
   "outputs": [],
   "source": [
    "class Table(Dice):\n",
    "    \n",
    "    \n",
    "    def __init__(self,point_set=False):\n",
    "        super().__init__()\n",
    "        self.point_set = point_set\n",
    "        \n",
    "        if point_set == False:\n",
    "            print(\"Point hasn't been set yet\")\n",
    "        else:\n",
    "            print(\"Point has been set\")\n",
    "            "
   ]
  },
  {
   "cell_type": "code",
   "execution_count": 6,
   "id": "30286ecc",
   "metadata": {},
   "outputs": [
    {
     "name": "stdout",
     "output_type": "stream",
     "text": [
      "Point hasn't been set yet\n"
     ]
    }
   ],
   "source": [
    "t = Table()"
   ]
  },
  {
   "cell_type": "code",
   "execution_count": null,
   "id": "bf0b0a56",
   "metadata": {},
   "outputs": [],
   "source": []
  },
  {
   "cell_type": "code",
   "execution_count": 7,
   "id": "b58879d6",
   "metadata": {},
   "outputs": [],
   "source": [
    "class Player(Table):\n",
    "    \n",
    "    def __init__(self):\n",
    "        super().__init__()\n",
    "        self.name = input(\"Please enter your name: \")\n",
    "        print(\"Welcome to the table {}\".format(self.name))\n",
    "        while True:\n",
    "            try:\n",
    "                self.bankroll = int(input(\"Please enter you Bankroll: \"))\n",
    "                \n",
    "\n",
    "            except ValueError: \n",
    "                print(\"Please enter a valid number\\nOnly Dollars accepted on this table\")\n",
    "\n",
    "            else:\n",
    "                \n",
    "                print(\"Your bankroll is {}\".format(self.bankroll))\n",
    "                return self.bankroll\n",
    "        return self.name\n",
    "    \n",
    "        \n",
    "        \n",
    "            \n"
   ]
  },
  {
   "cell_type": "code",
   "execution_count": 26,
   "id": "57529242",
   "metadata": {},
   "outputs": [
    {
     "ename": "IndentationError",
     "evalue": "expected an indented block (1678764116.py, line 134)",
     "output_type": "error",
     "traceback": [
      "\u001b[0;36m  Input \u001b[0;32mIn [26]\u001b[0;36m\u001b[0m\n\u001b[0;31m    \u001b[0m\n\u001b[0m    ^\u001b[0m\n\u001b[0;31mIndentationError\u001b[0m\u001b[0;31m:\u001b[0m expected an indented block\n"
     ]
    }
   ],
   "source": [
    "class Bets(Player):\n",
    "    \n",
    "    def __init__(self):\n",
    "        super().__init__()\n",
    "        \n",
    "        \n",
    "    def insufficient_funds():\n",
    "        print(\"bet exceeds bankroll, please choose a bet within the bankroll limit\")\n",
    "    \n",
    "    \n",
    "    def ingest_bet(self):\n",
    "\n",
    "        while self.point_set == False:\n",
    "\n",
    "            try:\n",
    "                initial_bet = int(input(\"Enter bet amount: \"))\n",
    "\n",
    "                if initial_bet <= 0:\n",
    "                    print(\"Please enter a bet\")\n",
    "                    continue\n",
    "\n",
    "                elif initial_bet > self.bankroll:\n",
    "                    Bets.insufficient_funds()\n",
    "                    continue\n",
    "            except ValueError:\n",
    "                print(\"Please enter a valid number\")\n",
    "\n",
    "            else:\n",
    "                self.bankroll = self.bankroll - initial_bet\n",
    "                break\n",
    "        \n",
    "        return initial_bet\n",
    "    \n",
    "    def shooter():\n",
    "        print(\"check active bets\")\n",
    "        #roll dice\n",
    "        active_bets = True\n",
    "\n",
    "        while active_bets == True:\n",
    "            d.roll()\n",
    "            return d.roll\n",
    "    \n",
    "    def pass_line(self):\n",
    "        while self.point_set == False:\n",
    "            if self.dietotal == 2 or 3:\n",
    "                print(\"You have lost this round\")\n",
    "                pbet_lost = True\n",
    "            elif self.dietotal == 7 or 11:\n",
    "                print(\"You have won this round\")\n",
    "                pbet_win = True\n",
    "            elif self.dietotal == 12:\n",
    "                print(\"It's a draw! please roll again\")\n",
    "            else:\n",
    "                print(\"Table point has been set to {}\".format(d.dietotal))\n",
    "                active_bets = True\n",
    "        \n",
    "    \n",
    "    def dont_pass_line(self):\n",
    "        while self.point_set == False:\n",
    "            if self.dietotal == 2 or 3:\n",
    "                print(\"You have won this round\")\n",
    "                dpbet_win = True\n",
    "            elif self.dietotal == 7 or 11:\n",
    "                print(\"You have lost this round\")\n",
    "                dpbet_lost = True\n",
    "            elif self.dietotal == 12:\n",
    "                print(\"It's a draw! please roll again\")\n",
    "            else:\n",
    "                print(\"Table point has been set to {}\".format(d.dietotal))\n",
    "    \n",
    "    def betting_turn(self):\n",
    "        \n",
    "        \n",
    "        while self.point_set == False:\n",
    "            # ask user if they wanna bet\n",
    "            ask_bet = input(\"Do you want to place a bet? (Y or N) : \")\n",
    "            if ask_bet == 'y' or ask_bet == 'Y':\n",
    "                self.initial_bet_choice == input(\"P or DP? : \")\n",
    "                if self.initial_bet_choice == 'P' or self.initial_bet_choice == 'p':\n",
    "                    Bets.ingest_bet()\n",
    "                    Bets.shooter()\n",
    "                    Bets.pass_line()\n",
    "                    break\n",
    "                elif self.initial_bet_choice == 'DP' or 'dp' or 'Dp' or 'dP':\n",
    "                    Bets.ingest_bet()\n",
    "                    Bets.ingest_bet()\n",
    "                    Bets.shooter()\n",
    "                    Bets.pass_line()\n",
    "                    break\n",
    "                else:\n",
    "                    print(\"Please enter a valid choice\")\n",
    "            elif ask_bet == 'n' or ask_bet == 'N':\n",
    "                print(\"Thank you for playing\")\n",
    "                break\n",
    "            else:\n",
    "                print(\"Please make a valid choice\")\n",
    "                continue\n",
    "    \n",
    "    def bet_winner(self):\n",
    "        while self.poin_set == False:\n",
    "            if pbet_won == True:\n",
    "                self.winning_bettype = 'Pass bet'\n",
    "                print(\"You have won ${} from the {}\".format(initial_bet,self.winning_bettype))\n",
    "            \n",
    "            if dpbet_won == True:\n",
    "                self.winning_bettype = 'Dont pass bet'\n",
    "                \n",
    "            break\n",
    "            print(\"You have won ${} from the {}\".format(initial_bet,self.winning_bettype))\n",
    "       \n",
    "                \n",
    "    def bet_loser(self):\n",
    "        while self.poin_set == False:\n",
    "            \n",
    "            if pbet_lost == True:\n",
    "                self.losing_bettype = 'Pass bet'\n",
    "                        \n",
    "            elif dpbet_lost == True:\n",
    "                self.losing_bettype = 'Dont pass bet'\n",
    "                print(\"You have lost ${} from the {}\".format(initial_bet,self.losing_bettype))\n",
    "            \n",
    "            break            \n",
    "            print(\"You have lost ${} from the {}\".format(initial_bet,self.losing_bettype))\n",
    "\n",
    "    def odds(self):\n",
    "        while self.point_set == True:\n",
    "            Bets.ingest_bet()\n",
    "            \n",
    "    def payout(self):\n",
    "        \n",
    "            \n",
    "bet = Bets()    \n",
    "bet.ingest_bet()\n",
    "print(\"Your updated bankroll is {}\" .format(bet.bankroll))\n",
    "bet.betting_turn()             \n",
    "            \n",
    "           \n"
   ]
  },
  {
   "cell_type": "code",
   "execution_count": null,
   "id": "2d7d35dd",
   "metadata": {},
   "outputs": [],
   "source": []
  },
  {
   "cell_type": "code",
   "execution_count": null,
   "id": "ac08b6a6",
   "metadata": {},
   "outputs": [],
   "source": []
  },
  {
   "cell_type": "code",
   "execution_count": null,
   "id": "da4b9557",
   "metadata": {},
   "outputs": [],
   "source": []
  },
  {
   "cell_type": "code",
   "execution_count": null,
   "id": "e085c0ae",
   "metadata": {},
   "outputs": [],
   "source": []
  },
  {
   "cell_type": "code",
   "execution_count": null,
   "id": "bdd5fe80",
   "metadata": {},
   "outputs": [],
   "source": []
  },
  {
   "cell_type": "code",
   "execution_count": null,
   "id": "b6cfd4d6",
   "metadata": {},
   "outputs": [],
   "source": []
  }
 ],
 "metadata": {
  "kernelspec": {
   "display_name": "Python 3 (ipykernel)",
   "language": "python",
   "name": "python3"
  },
  "language_info": {
   "codemirror_mode": {
    "name": "ipython",
    "version": 3
   },
   "file_extension": ".py",
   "mimetype": "text/x-python",
   "name": "python",
   "nbconvert_exporter": "python",
   "pygments_lexer": "ipython3",
   "version": "3.9.12"
  }
 },
 "nbformat": 4,
 "nbformat_minor": 5
}
