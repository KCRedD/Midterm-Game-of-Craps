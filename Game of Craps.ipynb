{
 "cells": [
  {
   "cell_type": "code",
   "execution_count": 1,
   "id": "66fad361",
   "metadata": {},
   "outputs": [],
   "source": [
    "import random\n",
    "from random import randint"
   ]
  },
  {
   "cell_type": "code",
   "execution_count": 24,
   "id": "fe205e1c",
   "metadata": {},
   "outputs": [
    {
     "name": "stdout",
     "output_type": "stream",
     "text": [
      "5\n",
      "5\n",
      "10\n"
     ]
    }
   ],
   "source": [
    "class Dice:\n",
    "    \n",
    "    def __init__(self,sides=6):\n",
    "        self.sides=sides\n",
    "        self.die1 = random.randint(1,self.sides)\n",
    "        self.die2 = random.randint(1,self.sides)\n",
    "        self.dietotal = self.die1 + self.die2\n",
    "        print(self.die1)\n",
    "        print(self.die2)\n",
    "        print(self.dietotal)\n",
    "d = Dice()"
   ]
  },
  {
   "cell_type": "code",
   "execution_count": null,
   "id": "3aff3a35",
   "metadata": {},
   "outputs": [],
   "source": []
  },
  {
   "cell_type": "code",
   "execution_count": 23,
   "id": "fb5fd2fb",
   "metadata": {},
   "outputs": [
    {
     "ename": "AttributeError",
     "evalue": "type object 'Dice' has no attribute 'dietotal'",
     "output_type": "error",
     "traceback": [
      "\u001b[0;31m---------------------------------------------------------------------------\u001b[0m",
      "\u001b[0;31mAttributeError\u001b[0m                            Traceback (most recent call last)",
      "Input \u001b[0;32mIn [23]\u001b[0m, in \u001b[0;36m<cell line: 1>\u001b[0;34m()\u001b[0m\n\u001b[0;32m----> 1\u001b[0m \u001b[43mDice\u001b[49m\u001b[38;5;241;43m.\u001b[39;49m\u001b[43mdietotal\u001b[49m()\n",
      "\u001b[0;31mAttributeError\u001b[0m: type object 'Dice' has no attribute 'dietotal'"
     ]
    }
   ],
   "source": [
    "Dice.dietotal()"
   ]
  },
  {
   "cell_type": "code",
   "execution_count": 9,
   "id": "6fd61b66",
   "metadata": {},
   "outputs": [],
   "source": [
    "class Table(Dice):\n",
    "    \n",
    "    \n",
    "    def __init__(self,point_set=False):\n",
    "        super().__init__()\n",
    "        self.point_set = point_set\n",
    "        \n",
    "        if point_set == False:\n",
    "            print(\"Point hasn't been set yet\")\n",
    "        else:\n",
    "            print(\"Point has been set\")\n",
    "            "
   ]
  },
  {
   "cell_type": "code",
   "execution_count": 6,
   "id": "274de09d",
   "metadata": {},
   "outputs": [
    {
     "name": "stdout",
     "output_type": "stream",
     "text": [
      "Point hasn't been set yet\n"
     ]
    }
   ],
   "source": [
    "t = Table()"
   ]
  },
  {
   "cell_type": "code",
   "execution_count": null,
   "id": "350f993c",
   "metadata": {},
   "outputs": [],
   "source": []
  },
  {
   "cell_type": "code",
   "execution_count": 7,
   "id": "b58879d6",
   "metadata": {},
   "outputs": [],
   "source": [
    "class Player(Table):\n",
    "    \n",
    "    def __init__(self):\n",
    "        super().__init__()\n",
    "        self.name = input(\"Please enter your name: \")\n",
    "        print(\"Welcome to the table {}\".format(self.name))\n",
    "        while True:\n",
    "            try:\n",
    "                self.bankroll = int(input(\"Please enter you Bankroll: \"))\n",
    "                \n",
    "\n",
    "            except ValueError: \n",
    "                print(\"Please enter a valid number\\nOnly Dollars accepted on this table\")\n",
    "\n",
    "            else:\n",
    "                \n",
    "                print(\"Your bankroll is {}\".format(self.bankroll))\n",
    "                return self.bankroll\n",
    "        return self.name\n",
    "    \n",
    "        \n",
    "        \n",
    "            \n"
   ]
  },
  {
   "cell_type": "code",
   "execution_count": 11,
   "id": "57529242",
   "metadata": {},
   "outputs": [
    {
     "name": "stdout",
     "output_type": "stream",
     "text": [
      "Point hasn't been set yet\n",
      "Please enter your name: kc\n",
      "Welcome to the table kc\n",
      "Please enter you Bankroll: 5000\n",
      "Your bankroll is 5000\n"
     ]
    },
    {
     "ename": "AttributeError",
     "evalue": "'Bets' object has no attribute 'point_set'",
     "output_type": "error",
     "traceback": [
      "\u001b[0;31m---------------------------------------------------------------------------\u001b[0m",
      "\u001b[0;31mAttributeError\u001b[0m                            Traceback (most recent call last)",
      "Input \u001b[0;32mIn [11]\u001b[0m, in \u001b[0;36m<cell line: 63>\u001b[0;34m()\u001b[0m\n\u001b[1;32m     58\u001b[0m                 \u001b[38;5;28;01mcontinue\u001b[39;00m\n\u001b[1;32m     62\u001b[0m bet \u001b[38;5;241m=\u001b[39m Bets()    \n\u001b[0;32m---> 63\u001b[0m \u001b[43mbet\u001b[49m\u001b[38;5;241;43m.\u001b[39;49m\u001b[43mingest_bet\u001b[49m\u001b[43m(\u001b[49m\u001b[43m)\u001b[49m\n\u001b[1;32m     64\u001b[0m \u001b[38;5;28mprint\u001b[39m(\u001b[38;5;124m\"\u001b[39m\u001b[38;5;124mYour updated bankroll is \u001b[39m\u001b[38;5;132;01m{}\u001b[39;00m\u001b[38;5;124m\"\u001b[39m \u001b[38;5;241m.\u001b[39mformat(bet\u001b[38;5;241m.\u001b[39mbankroll))\n\u001b[1;32m     65\u001b[0m bet\u001b[38;5;241m.\u001b[39mbetting_turn()\n",
      "Input \u001b[0;32mIn [11]\u001b[0m, in \u001b[0;36mBets.ingest_bet\u001b[0;34m(self)\u001b[0m\n\u001b[1;32m     11\u001b[0m \u001b[38;5;28;01mdef\u001b[39;00m \u001b[38;5;21mingest_bet\u001b[39m(\u001b[38;5;28mself\u001b[39m):\n\u001b[0;32m---> 13\u001b[0m     \u001b[38;5;28;01mwhile\u001b[39;00m \u001b[38;5;28;43mself\u001b[39;49m\u001b[38;5;241;43m.\u001b[39;49m\u001b[43mpoint_set\u001b[49m \u001b[38;5;241m==\u001b[39m \u001b[38;5;28;01mFalse\u001b[39;00m:\n\u001b[1;32m     15\u001b[0m         \u001b[38;5;28;01mtry\u001b[39;00m:\n\u001b[1;32m     16\u001b[0m             initial_bet \u001b[38;5;241m=\u001b[39m \u001b[38;5;28mint\u001b[39m(\u001b[38;5;28minput\u001b[39m(\u001b[38;5;124m\"\u001b[39m\u001b[38;5;124mEnter bet amount: \u001b[39m\u001b[38;5;124m\"\u001b[39m))\n",
      "\u001b[0;31mAttributeError\u001b[0m: 'Bets' object has no attribute 'point_set'"
     ]
    }
   ],
   "source": [
    "class Bets(Player):\n",
    "    \n",
    "    def __init__(self):\n",
    "        super().__init__()\n",
    "        \n",
    "        \n",
    "    def insufficient_funds():\n",
    "        print(\"bet exceeds bankroll, please choose a bet within the bankroll limit\")\n",
    "    \n",
    "    \n",
    "    def ingest_bet(self):\n",
    "\n",
    "        while self.point_set == False:\n",
    "\n",
    "            try:\n",
    "                initial_bet = int(input(\"Enter bet amount: \"))\n",
    "\n",
    "                if initial_bet <= 0:\n",
    "                    print(\"Please enter a bet\")\n",
    "                    continue\n",
    "\n",
    "                elif initial_bet > self.bankroll:\n",
    "                    Bets.insufficient_funds()\n",
    "                    continue\n",
    "            except ValueError:\n",
    "                print(\"Please enter a valid number\")\n",
    "\n",
    "            else:\n",
    "                self.bankroll = self.bankroll - initial_bet\n",
    "                break\n",
    "        \n",
    "        return initial_bet\n",
    "    \n",
    "    def shooter():\n",
    "        print(\"check active bets\")\n",
    "        #roll dice\n",
    "        active_bets = True\n",
    "\n",
    "        while active_bets == True:\n",
    "            d.roll()\n",
    "            return d.roll\n",
    "    \n",
    "    def pass_line(self):\n",
    "        while self.point_set == False:\n",
    "            if self.dietotal == 2 or 3:\n",
    "                print(\"You have lost this round\")\n",
    "            elif self.dietotal == 7 or 11:\n",
    "                print(\"You have won this round\")\n",
    "            elif self.dietotal == 12:\n",
    "                print(\"It's a draw! please roll again\")\n",
    "            else:\n",
    "                print(\"Table point has been set to {}\".format(d.dietotal))\n",
    "                active_bets = True\n",
    "        \n",
    "    \n",
    "    def dont_pass_line(self):\n",
    "        while self.point_set == False:\n",
    "            if self.dietotal == 2 or 3:\n",
    "                print(\"You have won this round\")\n",
    "            elif self.dietotal == 7 or 11:\n",
    "                print(\"You have lost this round\")\n",
    "            elif self.dietotal == 12:\n",
    "                print(\"It's a draw! please roll again\")\n",
    "            else:\n",
    "                print(\"Table point has been set to {}\".format(d.dietotal))\n",
    "    \n",
    "    def betting_turn(self):\n",
    "        \n",
    "        \n",
    "        while self.point_set == False:\n",
    "            # ask user if they wanna bet\n",
    "            ask_bet = input(\"Do you want to place a bet? (Y or N) : \")\n",
    "            if ask_bet == 'y' or ask_bet == 'Y':\n",
    "                self.initial_bet_choice == input(\"P or DP? : \")\n",
    "                if self.initial_bet_choice == 'P' or self.initial_bet_choice == 'p':\n",
    "                    ingest_bet()\n",
    "                    shooter()\n",
    "                    pass_line()\n",
    "                    break\n",
    "                elif self.initial_bet_choice == 'DP' or 'dp' or 'Dp' or 'dP':\n",
    "                    self.ingest_bet()\n",
    "                    ingest_bet()\n",
    "                    shooter()\n",
    "                    pass_line()\n",
    "                    break\n",
    "                else:\n",
    "                    print(\"Please enter a valid choice\")\n",
    "            elif ask_bet == 'n' or ask_bet == 'N':\n",
    "                print(\"Thank you for playing\")\n",
    "                break\n",
    "            else:\n",
    "                print(\"Please make a valid choice\")\n",
    "                continue\n",
    "    \n",
    "        \n",
    "    \n",
    "bet = Bets()    \n",
    "bet.ingest_bet()\n",
    "print(\"Your updated bankroll is {}\" .format(bet.bankroll))\n",
    "bet.betting_turn()            \n"
   ]
  },
  {
   "cell_type": "code",
   "execution_count": null,
   "id": "97406414",
   "metadata": {},
   "outputs": [],
   "source": []
  },
  {
   "cell_type": "code",
   "execution_count": null,
   "id": "6ee8def3",
   "metadata": {},
   "outputs": [],
   "source": []
  },
  {
   "cell_type": "code",
   "execution_count": null,
   "id": "d2f8b0f5",
   "metadata": {},
   "outputs": [],
   "source": []
  },
  {
   "cell_type": "code",
   "execution_count": null,
   "id": "12367387",
   "metadata": {},
   "outputs": [],
   "source": []
  },
  {
   "cell_type": "code",
   "execution_count": null,
   "id": "bdd5fe80",
   "metadata": {},
   "outputs": [],
   "source": []
  },
  {
   "cell_type": "code",
   "execution_count": null,
   "id": "b6cfd4d6",
   "metadata": {},
   "outputs": [],
   "source": []
  }
 ],
 "metadata": {
  "kernelspec": {
   "display_name": "Python 3 (ipykernel)",
   "language": "python",
   "name": "python3"
  },
  "language_info": {
   "codemirror_mode": {
    "name": "ipython",
    "version": 3
   },
   "file_extension": ".py",
   "mimetype": "text/x-python",
   "name": "python",
   "nbconvert_exporter": "python",
   "pygments_lexer": "ipython3",
   "version": "3.9.12"
  }
 },
 "nbformat": 4,
 "nbformat_minor": 5
}
