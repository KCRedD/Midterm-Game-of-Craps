{
 "cells": [
  {
   "cell_type": "code",
   "execution_count": 1,
   "id": "f4a5aa27",
   "metadata": {},
   "outputs": [],
   "source": [
    "import random\n",
    "from random import randint"
   ]
  },
  {
   "cell_type": "code",
   "execution_count": 2,
   "id": "51a99195",
   "metadata": {},
   "outputs": [],
   "source": [
    "class Dice():\n",
    "    options = [1,2,3,4,5,6]\n",
    "    def __init__(self):\n",
    "        \n",
    "    \n",
    "        def roll(self,num):\n",
    "        \n",
    "            \n",
    "            self.num = random.choice(options)\n",
    "            \n",
    "            return self.num"
   ]
  },
  {
   "cell_type": "code",
   "execution_count": null,
   "id": "e6952b23",
   "metadata": {},
   "outputs": [],
   "source": [
    " def roll():\n",
    "        \n",
    "            options = [1,2,3,4,5,6]\n",
    "            num = random.choice(options)\n",
    "            \n",
    "            return num"
   ]
  }
 ],
 "metadata": {
  "kernelspec": {
   "display_name": "Python 3 (ipykernel)",
   "language": "python",
   "name": "python3"
  },
  "language_info": {
   "codemirror_mode": {
    "name": "ipython",
    "version": 3
   },
   "file_extension": ".py",
   "mimetype": "text/x-python",
   "name": "python",
   "nbconvert_exporter": "python",
   "pygments_lexer": "ipython3",
   "version": "3.9.12"
  }
 },
 "nbformat": 4,
 "nbformat_minor": 5
}
