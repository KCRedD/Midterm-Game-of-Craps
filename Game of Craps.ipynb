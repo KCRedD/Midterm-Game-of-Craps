{
 "cells": [
  {
   "cell_type": "code",
   "execution_count": 27,
   "id": "66fad361",
   "metadata": {},
   "outputs": [],
   "source": [
    "import random\n",
    "from random import randint"
   ]
  },
  {
   "cell_type": "code",
   "execution_count": 208,
   "id": "fe205e1c",
   "metadata": {},
   "outputs": [],
   "source": [
    "class Dice:\n",
    "    \n",
    "    def __init__(self,sides=6):\n",
    "        self.sides=sides\n",
    "        self.die1 = random.randint(1,self.sides)\n",
    "        self.die2 = random.randint(1,self.sides)\n",
    "        self.dice = self.die1 + self.die2\n",
    "        self.roll_dice = input(\"press 'd' to roll dice\")\n",
    "        #print(self.die1)\n",
    "        #print(self.die2)\n",
    "        if self.roll_dice == 'd' or 'D':\n",
    "            print (self.dice)\n"
   ]
  },
  {
   "cell_type": "code",
   "execution_count": 209,
   "id": "2f329251",
   "metadata": {},
   "outputs": [
    {
     "name": "stdout",
     "output_type": "stream",
     "text": [
      "press 'd' to roll diced\n",
      "6\n"
     ]
    }
   ],
   "source": [
    "d = Dice()"
   ]
  },
  {
   "cell_type": "code",
   "execution_count": null,
   "id": "66a51fbe",
   "metadata": {},
   "outputs": [],
   "source": []
  },
  {
   "cell_type": "code",
   "execution_count": 262,
   "id": "6fd61b66",
   "metadata": {},
   "outputs": [
    {
     "name": "stdout",
     "output_type": "stream",
     "text": [
      "Table point\n"
     ]
    }
   ],
   "source": [
    "class Table(Dice):\n",
    "    \n",
    "    print(\"Table point\")\n",
    "    \n",
    "# def __init__(self):\n",
    "#    super().__init__()\n",
    "#    self.point_set = False\n",
    "        \n",
    "#        if self.point_set == False:\n",
    "#            print(\"Point hasn't been set yet\")\n",
    "#        else:\n",
    "#            print(\"Point has been set\")\n",
    "#        "
   ]
  },
  {
   "cell_type": "code",
   "execution_count": 178,
   "id": "7e38f7ad",
   "metadata": {},
   "outputs": [],
   "source": [
    "t.point_set = False"
   ]
  },
  {
   "cell_type": "code",
   "execution_count": 183,
   "id": "bf0b0a56",
   "metadata": {},
   "outputs": [
    {
     "name": "stdout",
     "output_type": "stream",
     "text": [
      "Point hasn't been set yet\n"
     ]
    }
   ],
   "source": [
    "t = Table()"
   ]
  },
  {
   "cell_type": "code",
   "execution_count": 128,
   "id": "b58879d6",
   "metadata": {},
   "outputs": [],
   "source": [
    "class Player(Table):\n",
    "    \n",
    "    def __init__(self):\n",
    "        super().__init__()\n",
    "        self.name = input(\"Please enter your name: \")\n",
    "        print(\"Welcome to the table {}\".format(self.name))\n",
    "        \n",
    "    #def bankroll(self):\n",
    "        \n",
    "        while True:\n",
    "            try:\n",
    "                self.roll = int(input(\"Please enter you Bankroll: \"))\n",
    "                \n",
    "\n",
    "            except ValueError: \n",
    "                print(\"Please enter a valid number\\nOnly Dollars accepted on this table\")\n",
    "\n",
    "            else:\n",
    "                \n",
    "                print(\"Your bankroll is {}\".format(self.roll))\n",
    "                break\n",
    "            \n",
    "            return self.roll\n",
    "        \n",
    "\n"
   ]
  },
  {
   "cell_type": "code",
   "execution_count": 129,
   "id": "18f1b4ca",
   "metadata": {},
   "outputs": [
    {
     "name": "stdout",
     "output_type": "stream",
     "text": [
      "Point hasn't been set yet\n",
      "Please enter your name: kc\n",
      "Welcome to the table kc\n",
      "Please enter you Bankroll: 5000\n",
      "Your bankroll is 5000\n"
     ]
    }
   ],
   "source": [
    "p = Player()"
   ]
  },
  {
   "cell_type": "code",
   "execution_count": 130,
   "id": "4682034c",
   "metadata": {},
   "outputs": [
    {
     "name": "stdout",
     "output_type": "stream",
     "text": [
      "kc\n",
      "5000\n"
     ]
    }
   ],
   "source": [
    "print(p.name)\n",
    "print(p.roll)\n"
   ]
  },
  {
   "cell_type": "code",
   "execution_count": 278,
   "id": "57529242",
   "metadata": {},
   "outputs": [],
   "source": [
    "class Bets(Player):\n",
    "    \n",
    "    def __init__(self):\n",
    "        super().__init__()\n",
    "        \n",
    "        \n",
    "    def insufficient_funds():\n",
    "        print(\"bet exceeds bankroll, please choose a bet within the bankroll limit\")\n",
    "    \n",
    "    \n",
    "    def ingest_bet(self):\n",
    "        self.initial_bet = 0\n",
    "        \n",
    "        while self.point_set == False:\n",
    "\n",
    "            try:\n",
    "                self.initial_bet = int(input(\"Enter bet amount: \"))\n",
    "\n",
    "                if self.initial_bet <= 0:\n",
    "                    print(\"Please enter a bet\")\n",
    "                    continue\n",
    "\n",
    "                elif self.initial_bet > self.roll:\n",
    "                    Bets.insufficient_funds()\n",
    "                    continue\n",
    "            except ValueError:\n",
    "                print(\"Please enter a valid number\")\n",
    "\n",
    "            else:\n",
    "                self.roll = self.roll - self.initial_bet\n",
    "                print (\"your updated bankroll is {}\".format(self.roll))\n",
    "                break\n",
    "        \n",
    "        return self.initial_bet\n",
    "    \n",
    "    def shooter(self):\n",
    "        \n",
    "        \n",
    "        \n",
    "        print(\"check active bets\")\n",
    "        #roll dice\n",
    "        self.active_bets = False\n",
    "\n",
    "        while self.active_bets == False:\n",
    "            Bets.betting_turn(self)\n",
    "            \n",
    "            break\n",
    "        else:\n",
    "            print(\"active bets\")\n",
    "            \n",
    "    def pass_line(self):\n",
    "        \n",
    "        pbet_lost = False\n",
    "        while self.point_set == False:\n",
    "            Dice()\n",
    "            if self.dice == 2 or 3:\n",
    "                print(\"You have lost this round\")\n",
    "                pbet_lost = True\n",
    "                Bets.bet_loser(self)\n",
    "                Bets.betting_turn(self)\n",
    "                \n",
    "                break\n",
    "            elif self.dice == 7 or 11:\n",
    "                print(\"You have won this round\")\n",
    "                pbet_won = True\n",
    "                Bets.bet_winner(self)\n",
    "                break\n",
    "            elif self.dice == 12:\n",
    "                print(\"It's a draw! please roll again\")\n",
    "                Bets.betting_turn(self)\n",
    "                break\n",
    "            else:\n",
    "                print(\"Table point has been set to {}\".format(self.dice))\n",
    "                break\n",
    "                return self.active_bets == True\n",
    "                return point_set == True\n",
    "        \n",
    "    \n",
    "    def dont_pass_line(self):\n",
    "        while self.point_set == False:\n",
    "            if self.dietotal == 2 or self.dietotal==3:\n",
    "                print(\"You have won this round\")\n",
    "                dpbet_won = True\n",
    "                break\n",
    "            elif self.dietotal == 7 or self.dietotal==11:\n",
    "                print(\"You have lost this round\")\n",
    "                dpbet_lost = True\n",
    "                break\n",
    "            elif self.dietotal == 12:\n",
    "                print(\"It's a draw! please roll again\")\n",
    "            else:\n",
    "                print(\"Table point has been set to {}\".format(d.dietotal))\n",
    "                break\n",
    "    \n",
    "    def betting_turn(self):\n",
    "        self.comeout_betchoice = 'none'\n",
    "        \n",
    "        while self.point_set == False:\n",
    "            # ask user if they wanna bet\n",
    "            ask_bet = input(\"Do you want to place a bet? (Y or N) : \")\n",
    "            if ask_bet == 'y' or ask_bet == 'Y':\n",
    "                self.comeout_betchoice = input(\"P or DP? : \")\n",
    "                if self.comeout_betchoice == 'P' or self.comeout_betchoice == 'p':\n",
    "                    print(\"you have chosen pass bet\")\n",
    "                    Bets.ingest_bet(self)\n",
    "                    Bets.pass_line(self)\n",
    "                    #Bets.ingest_bet()\n",
    "                    #Bets.shooter()\n",
    "                    #Bets.pass_line()\n",
    "                    break\n",
    "                elif self.comeout_betchoice == 'DP' or 'dp' or 'Dp' or 'dP':\n",
    "                    print(\"you have chosen don't pass bet\")\n",
    "                    Bets.ingest_bet(self)\n",
    "                    #Bets.ingest_bet()\n",
    "                    #Bets.ingest_bet()\n",
    "                    #Bets.shooter()\n",
    "                    #Bets.pass_line()\n",
    "                    break\n",
    "                else:\n",
    "                    print(\"Please enter a valid choice\")\n",
    "            elif ask_bet == 'n' or ask_bet == 'N':\n",
    "                print(\"Thank you for playing\")\n",
    "                break\n",
    "            else:\n",
    "                print(\"Please make a valid choice\")\n",
    "                continue\n",
    "    \n",
    "    def bet_winner(self):\n",
    "        self.winning_bettype = 'none'\n",
    "        while self.poin_set == False:\n",
    "            if pbet_won == True:\n",
    "                self.winning_bettype = 'Pass bet'\n",
    "                print(\"You have won ${} from the {}\".format(self.initial_bet,self.winning_bettype))\n",
    "                break\n",
    "            if dpbet_won == True:\n",
    "                self.winning_bettype = 'Dont pass bet'\n",
    "                print(\"You have won ${} from the {}\".format(self.initial_bet,self.winning_bettype))\n",
    "                break\n",
    "            else:\n",
    "                Bets.bet_loser(self)\n",
    "                break\n",
    "                \n",
    "            \n",
    "            \n",
    "       \n",
    "                \n",
    "    def bet_loser(self):\n",
    "        self.losing_bettype = 'none'\n",
    "        self.pbet_lost = False\n",
    "        while self.point_set == False:\n",
    "            \n",
    "            if self.pbet_lost == True:\n",
    "                self.losing_bettype = 'Pass bet'\n",
    "                print(\"You have lost ${} from the {}\".format(initial_bet,self.losing_bettype))\n",
    "                break\n",
    "                        \n",
    "            elif self.dpbet_lost == True:\n",
    "                self.losing_bettype = 'Dont pass bet'\n",
    "                print(\"You have lost ${} from the {}\".format(initial_bet,self.losing_bettype))\n",
    "                break  \n",
    "                \n",
    "            else:\n",
    "                (\"please roll again\")\n",
    "                break\n",
    "            \n",
    "    def odds(self):\n",
    "        while self.point_set == True:\n",
    "            Bets.ingest_bet()\n",
    "            \n",
    "    def payout(self):\n",
    "        print(\"x\")\n",
    " "
   ]
  },
  {
   "cell_type": "code",
   "execution_count": 279,
   "id": "2d7d35dd",
   "metadata": {},
   "outputs": [
    {
     "name": "stdout",
     "output_type": "stream",
     "text": [
      "Point hasn't been set yet\n",
      "Please enter your name: kc\n",
      "Welcome to the table kc\n",
      "Please enter you Bankroll: 5000\n",
      "Your bankroll is 5000\n",
      "check active bets\n",
      "Do you want to place a bet? (Y or N) : y\n",
      "P or DP? : p\n",
      "you have chosen pass bet\n",
      "Enter bet amount: 50\n",
      "your updated bankroll is 4950\n",
      "press 'd' to roll diced\n",
      "7\n",
      "You have lost this round\n"
     ]
    },
    {
     "ename": "AttributeError",
     "evalue": "'Bets' object has no attribute 'dpbet_lost'",
     "output_type": "error",
     "traceback": [
      "\u001b[0;31m---------------------------------------------------------------------------\u001b[0m",
      "\u001b[0;31mAttributeError\u001b[0m                            Traceback (most recent call last)",
      "Input \u001b[0;32mIn [279]\u001b[0m, in \u001b[0;36m<cell line: 2>\u001b[0;34m()\u001b[0m\n\u001b[1;32m      1\u001b[0m bet \u001b[38;5;241m=\u001b[39m Bets()    \n\u001b[0;32m----> 2\u001b[0m \u001b[43mbet\u001b[49m\u001b[38;5;241;43m.\u001b[39;49m\u001b[43mshooter\u001b[49m\u001b[43m(\u001b[49m\u001b[43m)\u001b[49m\n",
      "Input \u001b[0;32mIn [278]\u001b[0m, in \u001b[0;36mBets.shooter\u001b[0;34m(self)\u001b[0m\n\u001b[1;32m     42\u001b[0m \u001b[38;5;28mself\u001b[39m\u001b[38;5;241m.\u001b[39mactive_bets \u001b[38;5;241m=\u001b[39m \u001b[38;5;28;01mFalse\u001b[39;00m\n\u001b[1;32m     44\u001b[0m \u001b[38;5;28;01mwhile\u001b[39;00m \u001b[38;5;28mself\u001b[39m\u001b[38;5;241m.\u001b[39mactive_bets \u001b[38;5;241m==\u001b[39m \u001b[38;5;28;01mFalse\u001b[39;00m:\n\u001b[0;32m---> 45\u001b[0m     \u001b[43mBets\u001b[49m\u001b[38;5;241;43m.\u001b[39;49m\u001b[43mbetting_turn\u001b[49m\u001b[43m(\u001b[49m\u001b[38;5;28;43mself\u001b[39;49m\u001b[43m)\u001b[49m\n\u001b[1;32m     47\u001b[0m     \u001b[38;5;28;01mbreak\u001b[39;00m\n\u001b[1;32m     48\u001b[0m \u001b[38;5;28;01melse\u001b[39;00m:\n",
      "Input \u001b[0;32mIn [278]\u001b[0m, in \u001b[0;36mBets.betting_turn\u001b[0;34m(self)\u001b[0m\n\u001b[1;32m    104\u001b[0m \u001b[38;5;28mprint\u001b[39m(\u001b[38;5;124m\"\u001b[39m\u001b[38;5;124myou have chosen pass bet\u001b[39m\u001b[38;5;124m\"\u001b[39m)\n\u001b[1;32m    105\u001b[0m Bets\u001b[38;5;241m.\u001b[39mingest_bet(\u001b[38;5;28mself\u001b[39m)\n\u001b[0;32m--> 106\u001b[0m \u001b[43mBets\u001b[49m\u001b[38;5;241;43m.\u001b[39;49m\u001b[43mpass_line\u001b[49m\u001b[43m(\u001b[49m\u001b[38;5;28;43mself\u001b[39;49m\u001b[43m)\u001b[49m\n\u001b[1;32m    107\u001b[0m \u001b[38;5;66;03m#Bets.ingest_bet()\u001b[39;00m\n\u001b[1;32m    108\u001b[0m \u001b[38;5;66;03m#Bets.shooter()\u001b[39;00m\n\u001b[1;32m    109\u001b[0m \u001b[38;5;66;03m#Bets.pass_line()\u001b[39;00m\n\u001b[1;32m    110\u001b[0m \u001b[38;5;28;01mbreak\u001b[39;00m\n",
      "Input \u001b[0;32mIn [278]\u001b[0m, in \u001b[0;36mBets.pass_line\u001b[0;34m(self)\u001b[0m\n\u001b[1;32m     57\u001b[0m \u001b[38;5;28mprint\u001b[39m(\u001b[38;5;124m\"\u001b[39m\u001b[38;5;124mYou have lost this round\u001b[39m\u001b[38;5;124m\"\u001b[39m)\n\u001b[1;32m     58\u001b[0m pbet_lost \u001b[38;5;241m=\u001b[39m \u001b[38;5;28;01mTrue\u001b[39;00m\n\u001b[0;32m---> 59\u001b[0m \u001b[43mBets\u001b[49m\u001b[38;5;241;43m.\u001b[39;49m\u001b[43mbet_loser\u001b[49m\u001b[43m(\u001b[49m\u001b[38;5;28;43mself\u001b[39;49m\u001b[43m)\u001b[49m\n\u001b[1;32m     60\u001b[0m Bets\u001b[38;5;241m.\u001b[39mbetting_turn(\u001b[38;5;28mself\u001b[39m)\n\u001b[1;32m     62\u001b[0m \u001b[38;5;28;01mbreak\u001b[39;00m\n",
      "Input \u001b[0;32mIn [278]\u001b[0m, in \u001b[0;36mBets.bet_loser\u001b[0;34m(self)\u001b[0m\n\u001b[1;32m    154\u001b[0m     \u001b[38;5;28mprint\u001b[39m(\u001b[38;5;124m\"\u001b[39m\u001b[38;5;124mYou have lost $\u001b[39m\u001b[38;5;132;01m{}\u001b[39;00m\u001b[38;5;124m from the \u001b[39m\u001b[38;5;132;01m{}\u001b[39;00m\u001b[38;5;124m\"\u001b[39m\u001b[38;5;241m.\u001b[39mformat(initial_bet,\u001b[38;5;28mself\u001b[39m\u001b[38;5;241m.\u001b[39mlosing_bettype))\n\u001b[1;32m    155\u001b[0m     \u001b[38;5;28;01mbreak\u001b[39;00m\n\u001b[0;32m--> 157\u001b[0m \u001b[38;5;28;01melif\u001b[39;00m \u001b[38;5;28;43mself\u001b[39;49m\u001b[38;5;241;43m.\u001b[39;49m\u001b[43mdpbet_lost\u001b[49m \u001b[38;5;241m==\u001b[39m \u001b[38;5;28;01mTrue\u001b[39;00m:\n\u001b[1;32m    158\u001b[0m     \u001b[38;5;28mself\u001b[39m\u001b[38;5;241m.\u001b[39mlosing_bettype \u001b[38;5;241m=\u001b[39m \u001b[38;5;124m'\u001b[39m\u001b[38;5;124mDont pass bet\u001b[39m\u001b[38;5;124m'\u001b[39m\n\u001b[1;32m    159\u001b[0m     \u001b[38;5;28mprint\u001b[39m(\u001b[38;5;124m\"\u001b[39m\u001b[38;5;124mYou have lost $\u001b[39m\u001b[38;5;132;01m{}\u001b[39;00m\u001b[38;5;124m from the \u001b[39m\u001b[38;5;132;01m{}\u001b[39;00m\u001b[38;5;124m\"\u001b[39m\u001b[38;5;241m.\u001b[39mformat(initial_bet,\u001b[38;5;28mself\u001b[39m\u001b[38;5;241m.\u001b[39mlosing_bettype))\n",
      "\u001b[0;31mAttributeError\u001b[0m: 'Bets' object has no attribute 'dpbet_lost'"
     ]
    }
   ],
   "source": [
    "bet = Bets()    \n",
    "bet.shooter()\n",
    "\n",
    "\n"
   ]
  },
  {
   "cell_type": "markdown",
   "id": "8c1fe2fc",
   "metadata": {},
   "source": [
    "##### t.point_set = True"
   ]
  },
  {
   "cell_type": "code",
   "execution_count": 149,
   "id": "da4b9557",
   "metadata": {},
   "outputs": [
    {
     "name": "stdout",
     "output_type": "stream",
     "text": [
      "Point hasn't been set yet\n"
     ]
    }
   ],
   "source": [
    "t = Table()"
   ]
  },
  {
   "cell_type": "code",
   "execution_count": null,
   "id": "e085c0ae",
   "metadata": {},
   "outputs": [],
   "source": []
  },
  {
   "cell_type": "code",
   "execution_count": 223,
   "id": "bdd5fe80",
   "metadata": {},
   "outputs": [
    {
     "name": "stdout",
     "output_type": "stream",
     "text": [
      "Point hasn't been set yet\n",
      "Please enter your name: kc\n",
      "Welcome to the table kc\n",
      "Please enter you Bankroll: 5000\n",
      "Your bankroll is 5000\n"
     ]
    },
    {
     "data": {
      "text/plain": [
       "<__main__.Bets at 0x7fea38083790>"
      ]
     },
     "execution_count": 223,
     "metadata": {},
     "output_type": "execute_result"
    }
   ],
   "source": [
    "Bets()"
   ]
  },
  {
   "cell_type": "code",
   "execution_count": null,
   "id": "b6cfd4d6",
   "metadata": {},
   "outputs": [],
   "source": []
  }
 ],
 "metadata": {
  "kernelspec": {
   "display_name": "Python 3 (ipykernel)",
   "language": "python",
   "name": "python3"
  },
  "language_info": {
   "codemirror_mode": {
    "name": "ipython",
    "version": 3
   },
   "file_extension": ".py",
   "mimetype": "text/x-python",
   "name": "python",
   "nbconvert_exporter": "python",
   "pygments_lexer": "ipython3",
   "version": "3.9.12"
  }
 },
 "nbformat": 4,
 "nbformat_minor": 5
}
