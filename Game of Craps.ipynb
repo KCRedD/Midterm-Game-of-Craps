{
 "cells": [
  {
   "cell_type": "code",
   "execution_count": null,
   "id": "66fad361",
   "metadata": {},
   "outputs": [],
   "source": [
    "import random\n",
    "from random import randint"
   ]
  },
  {
   "cell_type": "code",
   "execution_count": null,
   "id": "fe205e1c",
   "metadata": {},
   "outputs": [],
   "source": [
    "class Dice():\n",
    "    \n",
    "    def __init__(self,sides=6):\n",
    "        self.sides=sides\n",
    "    \n",
    "        def roll(self):\n",
    "        \n",
    "            \n",
    "            self.num = random.randint(1,self.sides)\n",
    "            \n",
    "            return self.num"
   ]
  },
  {
   "cell_type": "code",
   "execution_count": null,
   "id": "6fd61b66",
   "metadata": {},
   "outputs": [],
   "source": [
    "class Table(Dice):\n",
    "    \n",
    "    def __init__(self):\n",
    "        \n",
    "        if point_set == False:\n",
    "            print(\"Point hasn't been set yet\")\n",
    "        else:\n",
    "            print(\"Point has been set\")\n",
    "            "
   ]
  },
  {
   "cell_type": "code",
   "execution_count": null,
   "id": "b58879d6",
   "metadata": {},
   "outputs": [],
   "source": [
    "class Player(Table):\n",
    "    \n",
    "    def __init__(self):\n",
    "        \n",
    "        self.name = input(\"Please enter your name: \")\n",
    "        print(\"Welcome to the table {}\".format(self.name))\n",
    "       \n",
    "        \n",
    "    def bankroll(self):   \n",
    "        \n",
    "        while True:\n",
    "            try:\n",
    "                self.amount = int(input(\"Please enter you Bankroll: \"))\n",
    "                \n",
    "\n",
    "            except ValueError: \n",
    "                print(\"Please enter a valid number\\nOnly Dollars accepted on this table\")\n",
    "\n",
    "            else:\n",
    "                \n",
    "                print(\"Your bankroll is {}\".format(self.amount))\n",
    "                return self.amount\n",
    "            \n",
    "p = Player()\n",
    "p.bankroll()"
   ]
  },
  {
   "cell_type": "code",
   "execution_count": null,
   "id": "57529242",
   "metadata": {},
   "outputs": [],
   "source": []
  },
  {
   "cell_type": "code",
   "execution_count": null,
   "id": "bdd5fe80",
   "metadata": {},
   "outputs": [],
   "source": [
    "bankroll = p.bankroll()  \n",
    "\n",
    "def ingest_bet():\n",
    "    \n",
    "    \n",
    "    point_set = False\n",
    "    \n",
    "    while point_set == False:\n",
    "       \n",
    "        try:\n",
    "            initial_bet = int(input(\"Enter bet amount: \"))\n",
    "\n",
    "            if int(initial_bet) <= 0:\n",
    "                print(\"Please enter a bet\")\n",
    "                continue\n",
    "        except ValueError:\n",
    "            print(\"Please enter a valid number\")\n",
    "\n",
    "        else:\n",
    "            break\n",
    "\n",
    "\n",
    "\n",
    "bet = ingest_bet()   \n",
    "    \n",
    "bankroll = bankroll - bet\n",
    "print(\"Your updated bankroll is {}\" .format(bankroll))"
   ]
  },
  {
   "cell_type": "code",
   "execution_count": null,
   "id": "b6cfd4d6",
   "metadata": {},
   "outputs": [],
   "source": []
  }
 ],
 "metadata": {
  "kernelspec": {
   "display_name": "Python 3 (ipykernel)",
   "language": "python",
   "name": "python3"
  },
  "language_info": {
   "codemirror_mode": {
    "name": "ipython",
    "version": 3
   },
   "file_extension": ".py",
   "mimetype": "text/x-python",
   "name": "python",
   "nbconvert_exporter": "python",
   "pygments_lexer": "ipython3",
   "version": "3.9.12"
  }
 },
 "nbformat": 4,
 "nbformat_minor": 5
}
