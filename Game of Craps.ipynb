{
 "cells": [
  {
   "cell_type": "code",
   "execution_count": 1,
   "id": "66fad361",
   "metadata": {},
   "outputs": [],
   "source": [
    "import random\n",
    "from random import randint"
   ]
  },
  {
   "cell_type": "code",
   "execution_count": 2,
   "id": "fe205e1c",
   "metadata": {},
   "outputs": [],
   "source": [
    "class Dice:\n",
    "    \n",
    "    def __init__(self,sides=6):\n",
    "        self.sides=sides\n",
    "        self.die1 = random.randint(1,self.sides)\n",
    "        self.die2 = random.randint(1,self.sides)\n",
    "        self.total = self.die1 + self.die2\n",
    "        print(self.die1)\n",
    "        print(self.die2)\n",
    "        print(self.total)"
   ]
  },
  {
   "cell_type": "code",
   "execution_count": 8,
   "id": "6fd61b66",
   "metadata": {},
   "outputs": [],
   "source": [
    "class Table(Dice):\n",
    "    point_set = False\n",
    "    \n",
    "    def __init__(self):\n",
    "        \n",
    "        if point_set == False:\n",
    "            print(\"Point hasn't been set yet\")\n",
    "        else:\n",
    "            print(\"Point has been set\")\n",
    "            "
   ]
  },
  {
   "cell_type": "code",
   "execution_count": 11,
   "id": "cc5d62bb",
   "metadata": {},
   "outputs": [
    {
     "name": "stdout",
     "output_type": "stream",
     "text": [
      "Point hasn't been set yet\n"
     ]
    },
    {
     "data": {
      "text/plain": [
       "<__main__.Table at 0x7f907047bd00>"
      ]
     },
     "execution_count": 11,
     "metadata": {},
     "output_type": "execute_result"
    }
   ],
   "source": [
    "Table()"
   ]
  },
  {
   "cell_type": "code",
   "execution_count": 13,
   "id": "b58879d6",
   "metadata": {},
   "outputs": [],
   "source": [
    "class Player(Table):\n",
    "    \n",
    "    def __init__(self):\n",
    "        super().__init__()\n",
    "        self.name = input(\"Please enter your name: \")\n",
    "        print(\"Welcome to the table {}\".format(self.name))\n",
    "        while True:\n",
    "            try:\n",
    "                self.bankroll = int(input(\"Please enter you Bankroll: \"))\n",
    "                \n",
    "\n",
    "            except ValueError: \n",
    "                print(\"Please enter a valid number\\nOnly Dollars accepted on this table\")\n",
    "\n",
    "            else:\n",
    "                \n",
    "                print(\"Your bankroll is {}\".format(self.bankroll))\n",
    "                return self.bankroll\n",
    "        return self.name\n",
    "    \n",
    "        \n",
    "        \n",
    "            \n"
   ]
  },
  {
   "cell_type": "code",
   "execution_count": 15,
   "id": "57529242",
   "metadata": {},
   "outputs": [
    {
     "name": "stdout",
     "output_type": "stream",
     "text": [
      "Point hasn't been set yet\n",
      "Please enter your name: kc\n",
      "Welcome to the table kc\n",
      "Please enter you Bankroll: 5000\n",
      "Your bankroll is 5000\n",
      "Enter bet amount: 50000\n",
      "bet exceeds bankroll, please choose a bet within the bankroll limit\n",
      "Enter bet amount: 5\n",
      "Your updated bankroll is 4995\n"
     ]
    }
   ],
   "source": [
    "class Bets(Player):\n",
    "    \n",
    "    def __init__(self):\n",
    "        super().__init__()\n",
    "        \n",
    "        \n",
    "    def insufficient_funds():\n",
    "        print(\"bet exceeds bankroll, please choose a bet within the bankroll limit\")\n",
    "    \n",
    "    \n",
    "    def ingest_bet(self):\n",
    "\n",
    "       \n",
    "\n",
    "        point_set = False\n",
    "\n",
    "\n",
    "        while point_set == False:\n",
    "\n",
    "            try:\n",
    "                initial_bet = int(input(\"Enter bet amount: \"))\n",
    "\n",
    "                if initial_bet <= 0:\n",
    "                    print(\"Please enter a bet\")\n",
    "                    continue\n",
    "\n",
    "                elif initial_bet > self.bankroll:\n",
    "                    Bets.insufficient_funds()\n",
    "                    continue\n",
    "            except ValueError:\n",
    "                print(\"Please enter a valid number\")\n",
    "\n",
    "            else:\n",
    "                self.bankroll = self.bankroll - initial_bet\n",
    "                break\n",
    "\n",
    "        \n",
    "\n",
    "        return initial_bet\n",
    "\n",
    "bet = Bets()    \n",
    "bet.ingest_bet()\n",
    "print(\"Your updated bankroll is {}\" .format(bet.bankroll))\n",
    "            \n",
    "        "
   ]
  },
  {
   "cell_type": "code",
   "execution_count": null,
   "id": "415d064b",
   "metadata": {},
   "outputs": [],
   "source": []
  },
  {
   "cell_type": "code",
   "execution_count": null,
   "id": "06e25594",
   "metadata": {},
   "outputs": [],
   "source": []
  },
  {
   "cell_type": "code",
   "execution_count": null,
   "id": "4e7de11a",
   "metadata": {},
   "outputs": [],
   "source": []
  },
  {
   "cell_type": "code",
   "execution_count": null,
   "id": "e71fa687",
   "metadata": {},
   "outputs": [],
   "source": []
  },
  {
   "cell_type": "code",
   "execution_count": null,
   "id": "bdd5fe80",
   "metadata": {},
   "outputs": [],
   "source": []
  },
  {
   "cell_type": "code",
   "execution_count": null,
   "id": "b6cfd4d6",
   "metadata": {},
   "outputs": [],
   "source": []
  }
 ],
 "metadata": {
  "kernelspec": {
   "display_name": "Python 3 (ipykernel)",
   "language": "python",
   "name": "python3"
  },
  "language_info": {
   "codemirror_mode": {
    "name": "ipython",
    "version": 3
   },
   "file_extension": ".py",
   "mimetype": "text/x-python",
   "name": "python",
   "nbconvert_exporter": "python",
   "pygments_lexer": "ipython3",
   "version": "3.9.12"
  }
 },
 "nbformat": 4,
 "nbformat_minor": 5
}
